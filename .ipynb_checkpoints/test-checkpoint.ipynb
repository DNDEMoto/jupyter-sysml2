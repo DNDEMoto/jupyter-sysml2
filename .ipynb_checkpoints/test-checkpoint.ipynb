{
 "cells": [
  {
   "cell_type": "code",
   "execution_count": 3,
   "id": "388bf4f9",
   "metadata": {},
   "outputs": [
    {
     "data": {
      "text/plain": [
       "Package Comment Example (4cb1006e-9df5-46d3-a994-793458fd3e8d)\n"
      ]
     },
     "execution_count": 3,
     "metadata": {},
     "output_type": "execute_result"
    }
   ],
   "source": [
    "package 'Comment Example' {\n",
    "\t/* This is a comment, which is a part of the model, \n",
    "\t * annotating (by default) it's owning namespace. */\n",
    "\t\n",
    "\tcomment Comment1 /* This is a named comment. */\n",
    "\t\n",
    "\tcomment about Automobile\n",
    "\t/* This is an unnamed comment, annotating an \n",
    "\t * explicitly specified element. \n",
    "\t */\n",
    "\t \n",
    "\tpart def Automobile;\n",
    "\t\n",
    "\talias Car for Automobile {\n",
    "\t\t/*\n",
    "\t\t * This is a comment annotating its owning\n",
    "\t\t * element.\n",
    "\t\t */\n",
    "\t}\t                         \n",
    "\t\n",
    "\t// This is a note. It is in the text, but not part \n",
    "\t// of the model.\n",
    "\talias Torque for ISQ::TorqueValue;\n",
    "}"
   ]
  },
  {
   "cell_type": "code",
   "execution_count": 4,
   "id": "6a78dca2",
   "metadata": {},
   "outputs": [
    {
     "data": {
      "image/svg+xml": [
       "<?xml version=\"1.0\" encoding=\"UTF-8\" standalone=\"no\"?><svg xmlns=\"http://www.w3.org/2000/svg\" xmlns:xlink=\"http://www.w3.org/1999/xlink\" contentStyleType=\"text/css\" height=\"591px\" preserveAspectRatio=\"none\" style=\"width:1791px;height:591px;background:#FFFFFF;\" version=\"1.1\" viewBox=\"0 0 1791 591\" width=\"1791px\" zoomAndPan=\"magnify\"><defs/><g><!--MD5=[fbc87193dbaf4d95561dea2c320d4a47]\n",
       "cluster E1--><g id=\"cluster_E1\"><a href=\"psysml:4cb1006e-9df5-46d3-a994-793458fd3e8d\" target=\"_top\" title=\"psysml:4cb1006e-9df5-46d3-a994-793458fd3e8d\" xlink:actuate=\"onRequest\" xlink:href=\"psysml:4cb1006e-9df5-46d3-a994-793458fd3e8d\" xlink:show=\"new\" xlink:title=\"psysml:4cb1006e-9df5-46d3-a994-793458fd3e8d\" xlink:type=\"simple\"><polygon fill=\"none\" points=\"16,6,167,6,174,28.2969,1774,28.2969,1774,584,16,584,16,6\" style=\"stroke:#000000;stroke-width:1.5;\"/><line style=\"stroke:#000000;stroke-width:1.5;\" x1=\"16\" x2=\"174\" y1=\"28.2969\" y2=\"28.2969\"/><text fill=\"#000000\" font-family=\"sans-serif\" font-size=\"14\" font-weight=\"bold\" lengthAdjust=\"spacing\" textLength=\"145\" x=\"20\" y=\"20.9951\">Comment Example</text></a></g><!--MD5=[270fce915f116d4de14055a7c1d9a0f3]\n",
       "class E5--><a href=\"psysml:37f92d37-7949-4b4b-a589-5a183118aae0\" target=\"_top\" title=\"psysml:37f92d37-7949-4b4b-a589-5a183118aae0\" xlink:actuate=\"onRequest\" xlink:href=\"psysml:37f92d37-7949-4b4b-a589-5a183118aae0\" xlink:show=\"new\" xlink:title=\"psysml:37f92d37-7949-4b4b-a589-5a183118aae0\" xlink:type=\"simple\"><g id=\"elem_E5\"><rect fill=\"#FFFFFF\" height=\"48.2656\" id=\"E5\" style=\"stroke:#181818;stroke-width:0.5;\" width=\"84\" x=\"1658\" y=\"226.5\"/><text fill=\"#000000\" font-family=\"sans-serif\" font-size=\"12\" font-style=\"italic\" lengthAdjust=\"spacing\" textLength=\"68\" x=\"1666\" y=\"242.6387\">«part  def»</text><text fill=\"#000000\" font-family=\"sans-serif\" font-size=\"14\" lengthAdjust=\"spacing\" textLength=\"78\" x=\"1661\" y=\"258.4639\">Automobile</text><line style=\"stroke:#181818;stroke-width:0.5;\" x1=\"1659\" x2=\"1741\" y1=\"266.7656\" y2=\"266.7656\"/></g></a><!--MD5=[60a26617385b1d2d0262a64233df1f8d]\n",
       "class E6--><a href=\"psysml:37f92d37-7949-4b4b-a589-5a183118aae0\" target=\"_top\" title=\"psysml:37f92d37-7949-4b4b-a589-5a183118aae0\" xlink:actuate=\"onRequest\" xlink:href=\"psysml:37f92d37-7949-4b4b-a589-5a183118aae0\" xlink:show=\"new\" xlink:title=\"psysml:37f92d37-7949-4b4b-a589-5a183118aae0\" xlink:type=\"simple\"><g id=\"elem_E6\"><rect fill=\"#FFFFFF\" height=\"48.2656\" id=\"E6\" style=\"stroke:#181818;stroke-width:0.5;\" width=\"84\" x=\"484\" y=\"512\"/><text fill=\"#000000\" font-family=\"sans-serif\" font-size=\"12\" font-style=\"italic\" lengthAdjust=\"spacing\" textLength=\"68\" x=\"492\" y=\"528.1387\">«part  def»</text><text fill=\"#000000\" font-family=\"sans-serif\" font-size=\"14\" lengthAdjust=\"spacing\" textLength=\"78\" x=\"487\" y=\"543.9639\">Automobile</text><line style=\"stroke:#181818;stroke-width:0.5;\" x1=\"485\" x2=\"567\" y1=\"552.2656\" y2=\"552.2656\"/></g></a><!--MD5=[b9389687b975829384b498ac4b7476b2]\n",
       "class E8--><a href=\"psysml:065547c5-30af-5eae-8779-c9647656fe8f\" target=\"_top\" title=\"psysml:065547c5-30af-5eae-8779-c9647656fe8f\" xlink:actuate=\"onRequest\" xlink:href=\"psysml:065547c5-30af-5eae-8779-c9647656fe8f\" xlink:show=\"new\" xlink:title=\"psysml:065547c5-30af-5eae-8779-c9647656fe8f\" xlink:type=\"simple\"><g id=\"elem_E8\"><rect fill=\"#FFFFFF\" height=\"403.2406\" id=\"E8\" style=\"stroke:#181818;stroke-width:0.5;\" width=\"307\" x=\"1316.5\" y=\"49\"/><text fill=\"#000000\" font-family=\"sans-serif\" font-size=\"12\" font-style=\"italic\" lengthAdjust=\"spacing\" textLength=\"97\" x=\"1421.5\" y=\"65.1387\">«attribute  def»</text><text fill=\"#000000\" font-family=\"sans-serif\" font-size=\"14\" lengthAdjust=\"spacing\" textLength=\"88\" x=\"1426\" y=\"80.9639\">TorqueValue</text><line style=\"stroke:#181818;stroke-width:0.5;\" x1=\"1317.5\" x2=\"1622.5\" y1=\"89.2656\" y2=\"89.2656\"/><text fill=\"#000000\" font-family=\"sans-serif\" font-size=\"14\" lengthAdjust=\"spacing\" textLength=\"186\" x=\"1322.5\" y=\"116.7795\">source: item 4-12.2 torque</text><text fill=\"#000000\" font-family=\"sans-serif\" font-size=\"14\" lengthAdjust=\"spacing\" textLength=\"151\" x=\"1322.5\" y=\"133.0764\">symbol(s): `T`, `M_Q`</text><text fill=\"#000000\" font-family=\"sans-serif\" font-size=\"14\" lengthAdjust=\"spacing\" textLength=\"190\" x=\"1322.5\" y=\"149.3732\">application domain: generic</text><text fill=\"#000000\" font-family=\"sans-serif\" font-size=\"14\" lengthAdjust=\"spacing\" textLength=\"98\" x=\"1322.5\" y=\"165.6701\">name: Torque</text><text fill=\"#000000\" font-family=\"sans-serif\" font-size=\"14\" lengthAdjust=\"spacing\" textLength=\"250\" x=\"1322.5\" y=\"181.967\">quantity dimension: L^2*M^1*T^-2</text><text fill=\"#000000\" font-family=\"sans-serif\" font-size=\"14\" lengthAdjust=\"spacing\" textLength=\"291\" x=\"1322.5\" y=\"198.2639\">measurement unit(s): N*m, kg*m^2*s^-2</text><text fill=\"#000000\" font-family=\"sans-serif\" font-size=\"14\" lengthAdjust=\"spacing\" textLength=\"104\" x=\"1322.5\" y=\"214.5607\">tensor order: 0</text><text fill=\"#000000\" font-family=\"sans-serif\" font-size=\"14\" lengthAdjust=\"spacing\" textLength=\"291\" x=\"1322.5\" y=\"230.8576\">definition: quantity described by the scalar</text><text fill=\"#000000\" font-family=\"sans-serif\" font-size=\"14\" lengthAdjust=\"spacing\" textLength=\"267\" x=\"1322.5\" y=\"247.1545\">product: `T = vec(M)*vec(e_Q)` where</text><text fill=\"#000000\" font-family=\"sans-serif\" font-size=\"14\" lengthAdjust=\"spacing\" textLength=\"286\" x=\"1322.5\" y=\"263.4514\">`vec(M)` is moment of force (item 4-12.1)</text><text fill=\"#000000\" font-family=\"sans-serif\" font-size=\"14\" lengthAdjust=\"spacing\" textLength=\"278\" x=\"1322.5\" y=\"279.7482\">and `vec(e_Q)` is unit vector of direction</text><text fill=\"#000000\" font-family=\"sans-serif\" font-size=\"14\" lengthAdjust=\"spacing\" textLength=\"239\" x=\"1322.5\" y=\"296.0451\">with respect to which the torque is</text><text fill=\"#000000\" font-family=\"sans-serif\" font-size=\"14\" lengthAdjust=\"spacing\" textLength=\"78\" x=\"1322.5\" y=\"312.342\">considered</text><text fill=\"#000000\" font-family=\"sans-serif\" font-size=\"14\" lengthAdjust=\"spacing\" textLength=\"245\" x=\"1322.5\" y=\"328.6389\">remarks: For example, torque is the</text><text fill=\"#000000\" font-family=\"sans-serif\" font-size=\"14\" lengthAdjust=\"spacing\" textLength=\"278\" x=\"1322.5\" y=\"344.9357\">twisting moment of force with respect to</text><text fill=\"#000000\" font-family=\"sans-serif\" font-size=\"14\" lengthAdjust=\"spacing\" textLength=\"268\" x=\"1322.5\" y=\"361.2326\">the longitudinal axis of a beam or shaft.</text><text fill=\"#000000\" font-family=\"sans-serif\" font-size=\"14\" font-style=\"italic\" lengthAdjust=\"spacing\" textLength=\"26\" x=\"1457\" y=\"101.6123\">doc</text><line style=\"stroke:#181818;stroke-width:1.0;\" x1=\"1317.5\" x2=\"1622.5\" y1=\"368.5344\" y2=\"368.5344\"/><text fill=\"#000000\" font-family=\"sans-serif\" font-size=\"14\" lengthAdjust=\"spacing\" textLength=\"70\" x=\"1322.5\" y=\"396.0482\">num: Real</text><text fill=\"#000000\" font-family=\"sans-serif\" font-size=\"14\" font-style=\"italic\" lengthAdjust=\"spacing\" textLength=\"214\" x=\"1322.5\" y=\"412.3451\">:&gt;&gt;TensorQuantityValue::num</text><text fill=\"#000000\" font-family=\"sans-serif\" font-size=\"14\" lengthAdjust=\"spacing\" textLength=\"122\" x=\"1322.5\" y=\"428.642\">mRef: TorqueUnit</text><text fill=\"#000000\" font-family=\"sans-serif\" font-size=\"14\" font-style=\"italic\" lengthAdjust=\"spacing\" textLength=\"211\" x=\"1322.5\" y=\"444.9389\">:&gt;&gt;ScalarQuantityValue::mRef</text><text fill=\"#000000\" font-family=\"sans-serif\" font-size=\"14\" font-style=\"italic\" lengthAdjust=\"spacing\" textLength=\"66\" x=\"1437\" y=\"380.8811\">attributes</text></g></a><g id=\"elem_E2\"><path d=\"M961,223 L961,278.3984 L1281,278.3984 L1281,233 L1271,223 L961,223 \" fill=\"#FAFAFA\" style=\"stroke:#181818;stroke-width:0.5;\"/><path d=\"M1271,223 L1271,233 L1281,233 L1271,223 \" fill=\"#FAFAFA\" style=\"stroke:#181818;stroke-width:1.0;\"/><a href=\"psysml:691154a3-89d1-420b-bbde-df2336328bcb\" target=\"_top\" title=\"psysml:691154a3-89d1-420b-bbde-df2336328bcb\" xlink:actuate=\"onRequest\" xlink:href=\"psysml:691154a3-89d1-420b-bbde-df2336328bcb\" xlink:show=\"new\" xlink:title=\"psysml:691154a3-89d1-420b-bbde-df2336328bcb\" xlink:type=\"simple\"><text fill=\"#000000\" font-family=\"sans-serif\" font-size=\"13\" lengthAdjust=\"spacing\" text-decoration=\"underline\" textLength=\"13\" x=\"967\" y=\"240.0669\">@</text></a><text fill=\"#000000\" font-family=\"sans-serif\" font-size=\"13\" lengthAdjust=\"spacing\" textLength=\"257\" x=\"980\" y=\"240.0669\">This is a comment, which is a part of the</text><text fill=\"#000000\" font-family=\"sans-serif\" font-size=\"13\" lengthAdjust=\"spacing\" textLength=\"44\" x=\"967\" y=\"255.1997\">model,</text><text fill=\"#000000\" font-family=\"sans-serif\" font-size=\"13\" lengthAdjust=\"spacing\" textLength=\"299\" x=\"967\" y=\"270.3325\">annotating (by default) it's owning namespace.</text></g><g id=\"elem_E3\"><path d=\"M722,238 L722,263.1328 L926,263.1328 L926,248 L916,238 L722,238 \" fill=\"#FAFAFA\" style=\"stroke:#181818;stroke-width:0.5;\"/><path d=\"M916,238 L916,248 L926,248 L916,238 \" fill=\"#FAFAFA\" style=\"stroke:#181818;stroke-width:1.0;\"/><a href=\"psysml:187dd417-c59d-4fda-b143-892e71b12ab4\" target=\"_top\" title=\"psysml:187dd417-c59d-4fda-b143-892e71b12ab4\" xlink:actuate=\"onRequest\" xlink:href=\"psysml:187dd417-c59d-4fda-b143-892e71b12ab4\" xlink:show=\"new\" xlink:title=\"psysml:187dd417-c59d-4fda-b143-892e71b12ab4\" xlink:type=\"simple\"><text fill=\"#000000\" font-family=\"sans-serif\" font-size=\"13\" lengthAdjust=\"spacing\" text-decoration=\"underline\" textLength=\"13\" x=\"728\" y=\"255.0669\">@</text></a><text fill=\"#000000\" font-family=\"sans-serif\" font-size=\"13\" lengthAdjust=\"spacing\" textLength=\"170\" x=\"741\" y=\"255.0669\">This is a named comment.</text></g><g id=\"elem_E4\"><path d=\"M365.5,223 L365.5,278.3984 A0,0 0 0 0 365.5,278.3984 L522,278.3984 L526,511.81 L530,278.3984 L686.5,278.3984 A0,0 0 0 0 686.5,278.3984 L686.5,233 L676.5,223 L365.5,223 A0,0 0 0 0 365.5,223 \" fill=\"#FAFAFA\" style=\"stroke:#181818;stroke-width:0.5;\"/><path d=\"M676.5,223 L676.5,233 L686.5,233 L676.5,223 \" fill=\"#FAFAFA\" style=\"stroke:#181818;stroke-width:0.5;\"/><a href=\"psysml:8ec657d5-1aa3-42c0-be41-044d3d31393b\" target=\"_top\" title=\"psysml:8ec657d5-1aa3-42c0-be41-044d3d31393b\" xlink:actuate=\"onRequest\" xlink:href=\"psysml:8ec657d5-1aa3-42c0-be41-044d3d31393b\" xlink:show=\"new\" xlink:title=\"psysml:8ec657d5-1aa3-42c0-be41-044d3d31393b\" xlink:type=\"simple\"><text fill=\"#000000\" font-family=\"sans-serif\" font-size=\"13\" lengthAdjust=\"spacing\" text-decoration=\"underline\" textLength=\"13\" x=\"371.5\" y=\"240.0669\">@</text></a><text fill=\"#000000\" font-family=\"sans-serif\" font-size=\"13\" lengthAdjust=\"spacing\" textLength=\"287\" x=\"384.5\" y=\"240.0669\">This is an unnamed comment, annotating an</text><text fill=\"#000000\" font-family=\"sans-serif\" font-size=\"13\" lengthAdjust=\"spacing\" textLength=\"175\" x=\"371.5\" y=\"255.1997\">explicitly specified element.</text><text fill=\"#000000\" font-family=\"sans-serif\" font-size=\"13\" lengthAdjust=\"spacing\" textLength=\"4\" x=\"371.5\" y=\"270.3325\"> </text></g><g id=\"elem_E7\"><path d=\"M39.5,223 L39.5,278.3984 L330.5,278.3984 L330.5,233 L320.5,223 L39.5,223 \" fill=\"#FAFAFA\" style=\"stroke:#181818;stroke-width:0.5;\"/><path d=\"M320.5,223 L320.5,233 L330.5,233 L320.5,223 \" fill=\"#FAFAFA\" style=\"stroke:#181818;stroke-width:1.0;\"/><a href=\"psysml:a76ebbc3-bd26-4a50-b498-f9590d1a7cf9\" target=\"_top\" title=\"psysml:a76ebbc3-bd26-4a50-b498-f9590d1a7cf9\" xlink:actuate=\"onRequest\" xlink:href=\"psysml:a76ebbc3-bd26-4a50-b498-f9590d1a7cf9\" xlink:show=\"new\" xlink:title=\"psysml:a76ebbc3-bd26-4a50-b498-f9590d1a7cf9\" xlink:type=\"simple\"><text fill=\"#000000\" font-family=\"sans-serif\" font-size=\"13\" lengthAdjust=\"spacing\" text-decoration=\"underline\" textLength=\"13\" x=\"45.5\" y=\"240.0669\">@</text></a><text fill=\"#000000\" font-family=\"sans-serif\" font-size=\"13\" lengthAdjust=\"spacing\" textLength=\"257\" x=\"58.5\" y=\"240.0669\">This is a comment annotating its owning</text><text fill=\"#000000\" font-family=\"sans-serif\" font-size=\"13\" lengthAdjust=\"spacing\" textLength=\"57\" x=\"45.5\" y=\"255.1997\">element.</text><text fill=\"#000000\" font-family=\"sans-serif\" font-size=\"13\" lengthAdjust=\"spacing\" textLength=\"4\" x=\"45.5\" y=\"270.3325\"> </text></g><!--MD5=[f23a504beb17692cf1ec401fb4a5a911]\n",
       "link E2 to E1--><g id=\"link_E2_E1\"><a href=\"psysml:691154a3-89d1-420b-bbde-df2336328bcb\" target=\"_top\" title=\"psysml:691154a3-89d1-420b-bbde-df2336328bcb\" xlink:actuate=\"onRequest\" xlink:href=\"psysml:691154a3-89d1-420b-bbde-df2336328bcb\" xlink:show=\"new\" xlink:title=\"psysml:691154a3-89d1-420b-bbde-df2336328bcb\" xlink:type=\"simple\"><path d=\"M1135.85,278.1 C1162.25,322.57 1221.89,411.13 1299,452 C1480.78,548.35 1598.42,382.15 1758,512 C1766.13,518.62 1766.02,534 1766,534.95 \" fill=\"none\" id=\"E2-E1\" style=\"stroke:#181818;stroke-width:1.0;stroke-dasharray:7.0,7.0;\"/></a></g><!--MD5=[ce8a55680e2ecf030a1946113312eb05]\n",
       "link E3 to E1--><g id=\"link_E3_E1\"><a href=\"psysml:187dd417-c59d-4fda-b143-892e71b12ab4\" target=\"_top\" title=\"psysml:187dd417-c59d-4fda-b143-892e71b12ab4\" xlink:actuate=\"onRequest\" xlink:href=\"psysml:187dd417-c59d-4fda-b143-892e71b12ab4\" xlink:show=\"new\" xlink:title=\"psysml:187dd417-c59d-4fda-b143-892e71b12ab4\" xlink:type=\"simple\"><path d=\"M826.93,263.23 C836.54,298.98 870.79,406.86 944,452 C1098.39,547.2 1614.14,401.54 1758,512 C1766.32,518.39 1766.03,533.98 1766,534.95 \" fill=\"none\" id=\"E3-E1\" style=\"stroke:#181818;stroke-width:1.0;stroke-dasharray:7.0,7.0;\"/></a></g><!--MD5=[e9389331349c7311b6fc2a0f30efccbe]\n",
       "@startuml\r\n",
       "skin sysmlbw\r\n",
       "skinparam monochrome true\r\n",
       "skinparam wrapWidth 300\r\n",
       "hide circle\r\n",
       "\r\n",
       "package \"Comment Example\" as E1  [[psysml:4cb1006e-9df5-46d3-a994-793458fd3e8d ]]  {\r\n",
       "comp def \"Automobile\" as E5  <<(T,blue) part  def>> [[psysml:37f92d37-7949-4b4b-a589-5a183118aae0 ]] {\r\n",
       "}\r\n",
       "comp def \"Automobile\" as E6  <<(T,blue) part  def>> [[psysml:37f92d37-7949-4b4b-a589-5a183118aae0 ]] {\r\n",
       "}\r\n",
       "comp def \"TorqueValue\" as E8  <<(T,blue) attribute  def>> [[psysml:065547c5-30af-5eae-8779-c9647656fe8f ]] {\r\n",
       "##//doc//##\r\n",
       "source: item 4<U+002D>12.2 torque\\nsymbol(s): `T`, `M<U+005F>Q`\\napplication domain: generic\\nname: Torque\\nquantity dimension: L^2<U+002A>M^1<U+002A>T^<U+002D>2\\nmeasurement unit(s): N<U+002A>m, kg<U+002A>m^2<U+002A>s^<U+002D>2\\ntensor order: 0\\ndefinition: quantity described by the scalar product: `T <U+003D> vec(M)<U+002A>vec(e<U+005F>Q)` where `vec(M)` is moment of force (item 4<U+002D>12.1) and `vec(e<U+005F>Q)` is unit vector of direction with respect to which the torque is considered\\nremarks: For example, torque is the twisting moment of force with respect to the longitudinal axis of a beam or shaft.\r\n",
       "- -\r\n",
       "##//attributes//##\r\n",
       "num: Real\\n//:>>TensorQuantityValue::num// \r\n",
       "mRef: TorqueUnit\\n//:>>ScalarQuantityValue::mRef// \r\n",
       "}\r\n",
       "note as E2\r\n",
       "[[psysml:691154a3-89d1-420b-bbde-df2336328bcb @]]This is a comment, which is a part of the model,\r\n",
       "annotating (by default) it's owning namespace.\r\n",
       "end note \r\n",
       "note as E3\r\n",
       "[[psysml:187dd417-c59d-4fda-b143-892e71b12ab4 @]]This is a named comment.\r\n",
       "end note \r\n",
       "note as E4\r\n",
       "[[psysml:8ec657d5-1aa3-42c0-be41-044d3d31393b @]]This is an unnamed comment, annotating an\r\n",
       "explicitly specified element.\r\n",
       "\r\n",
       "end note \r\n",
       "note as E7\r\n",
       "[[psysml:a76ebbc3-bd26-4a50-b498-f9590d1a7cf9 @]]This is a comment annotating its owning\r\n",
       "element.\r\n",
       "\r\n",
       "end note \r\n",
       "}\r\n",
       "E2 .. E1 [[psysml:691154a3-89d1-420b-bbde-df2336328bcb ]] \r\n",
       "E3 .. E1 [[psysml:187dd417-c59d-4fda-b143-892e71b12ab4 ]] \r\n",
       "E4 .. E6 [[psysml:8ec657d5-1aa3-42c0-be41-044d3d31393b ]] \r\n",
       "@enduml\r\n",
       "\n",
       "PlantUML version 1.2022.7(Mon Aug 22 17:01:30 UTC 2022)\n",
       "(EPL source distribution)\n",
       "Java Runtime: OpenJDK Runtime Environment\n",
       "JVM: OpenJDK 64-Bit Server VM\n",
       "Default Encoding: UTF-8\n",
       "Language: en\n",
       "Country: null\n",
       "--></g></svg>"
      ]
     },
     "execution_count": 4,
     "metadata": {},
     "output_type": "execute_result"
    }
   ],
   "source": [
    "%viz \"Comment Example\""
   ]
  },
  {
   "cell_type": "code",
   "execution_count": null,
   "id": "842c08c4",
   "metadata": {},
   "outputs": [],
   "source": []
  }
 ],
 "metadata": {
  "kernelspec": {
   "display_name": "SysML",
   "language": "sysml",
   "name": "sysml"
  },
  "language_info": {
   "codemirror_mode": "sysml",
   "file_extension": ".sysml",
   "mimetype": "text/x-sysml",
   "name": "SysML",
   "pygments_lexer": "java",
   "version": "1.0.0"
  }
 },
 "nbformat": 4,
 "nbformat_minor": 5
}
